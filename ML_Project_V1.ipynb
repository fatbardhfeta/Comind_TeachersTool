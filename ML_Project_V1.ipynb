{
  "nbformat": 4,
  "nbformat_minor": 0,
  "metadata": {
    "colab": {
      "name": "ML Project-V1.ipynb",
      "provenance": [],
      "collapsed_sections": [],
      "toc_visible": true,
      "include_colab_link": true
    },
    "kernelspec": {
      "name": "python3",
      "display_name": "Python 3"
    },
    "accelerator": "GPU"
  },
  "cells": [
    {
      "cell_type": "markdown",
      "metadata": {
        "id": "view-in-github",
        "colab_type": "text"
      },
      "source": [
        "<a href=\"https://colab.research.google.com/github/fatbardhfeta/Comind_TeachersTool/blob/master/ML_Project_V1.ipynb\" target=\"_parent\"><img src=\"https://colab.research.google.com/assets/colab-badge.svg\" alt=\"Open In Colab\"/></a>"
      ]
    },
    {
      "cell_type": "code",
      "metadata": {
        "id": "x7kW6mshtAqz",
        "colab_type": "code",
        "outputId": "b7932467-b330-4f5a-e577-436e74f3570c",
        "colab": {
          "base_uri": "https://localhost:8080/",
          "height": 122
        }
      },
      "source": [
        "#Mounting Google Drive, only needed once\n",
        "from google.colab import drive\n",
        "drive.mount('/content/drive')"
      ],
      "execution_count": 1,
      "outputs": [
        {
          "output_type": "stream",
          "text": [
            "Go to this URL in a browser: https://accounts.google.com/o/oauth2/auth?client_id=947318989803-6bn6qk8qdgf4n4g3pfee6491hc0brc4i.apps.googleusercontent.com&redirect_uri=urn%3aietf%3awg%3aoauth%3a2.0%3aoob&response_type=code&scope=email%20https%3a%2f%2fwww.googleapis.com%2fauth%2fdocs.test%20https%3a%2f%2fwww.googleapis.com%2fauth%2fdrive%20https%3a%2f%2fwww.googleapis.com%2fauth%2fdrive.photos.readonly%20https%3a%2f%2fwww.googleapis.com%2fauth%2fpeopleapi.readonly\n",
            "\n",
            "Enter your authorization code:\n",
            "··········\n",
            "Mounted at /content/drive\n"
          ],
          "name": "stdout"
        }
      ]
    },
    {
      "cell_type": "code",
      "metadata": {
        "id": "MCM0Qtm4RHE3",
        "colab_type": "code",
        "colab": {}
      },
      "source": [
        "#Uploading the arrays into local variables, only needed once\n",
        "import pandas as pd\n",
        "import numpy as np\n",
        "\n",
        "df = pd.read_csv('/content/drive/My Drive/ML PROJECT/genresV1.csv')\n",
        "genres = df.to_numpy()   #to convert pandas dataframe to 2d numpy array\n",
        "df = pd.read_csv('/content/drive/My Drive/ML PROJECT/features.csv',header=None )\n",
        "features = df.to_numpy()   #to convert pandas dataframe to 2d numpy array\n",
        "\n",
        "#fixing issue with geners data format\n",
        "temp = []\n",
        "\n",
        "for i in range(np.size(genres,0)):\n",
        "  temp.append(genres[i][0])\n",
        "temp = np.asarray(temp)\n",
        "\n",
        "genres2 = []\n",
        "features2= []\n",
        "\n",
        "c = 0\n",
        "for i in temp:\n",
        "  if( i != '[]' and i != 'nan' and i != 'Jarrod Fowler' and i != ' John Butcher' and (i[0:5] != \"['zal\") ):\n",
        "    genres2.append(getgenres(i))\n",
        "    features2.append( features[c])\n",
        "  c +=1\n",
        "\n",
        "genres2 = np.asarray(genres2)\n",
        "features2 = np.asarray(features2)\n",
        "\n",
        "df = pd.read_csv('/content/drive/My Drive/ML PROJECT/genres.csv')\n",
        "genrelist = df.to_numpy()   #to convert pandas dataframe to 2d numpy array\n",
        "temp1 = np.transpose(genrelist)[0]#all genres\n",
        "temp2 = np.transpose(genrelist)[4] #parent genres, if 0 -> it is already a parent\n",
        "genrelist = np.transpose(np.vstack((temp1,temp2))) #we only need these 2 at this point\n",
        "\n"
      ],
      "execution_count": 0,
      "outputs": []
    },
    {
      "cell_type": "code",
      "metadata": {
        "id": "efkPE7HVkJwl",
        "colab_type": "code",
        "colab": {}
      },
      "source": [
        "genresSingle = []\n",
        "featuresSingle = [] \n",
        "for (i,j) in zip(genres2,features2):\n",
        "  for k in i:\n",
        "    genresSingle.append(k)\n",
        "    featuresSingle.append(j)\n",
        "genresSingle = np.asarray(genresSingle)\n",
        "featuresSingle = np.asarray(featuresSingle)"
      ],
      "execution_count": 0,
      "outputs": []
    },
    {
      "cell_type": "code",
      "metadata": {
        "id": "iF-9CfWHkOUY",
        "colab_type": "code",
        "colab": {}
      },
      "source": [
        "# WE ARE CURRENTLY USING THIS ONE\n",
        "genresSingleTop = []\n",
        "featuresSingleTop = [] \n",
        "for (i,j) in zip(genres2,features2):\n",
        "  for k in i:\n",
        "    t = temp2[np.where(temp1 == k)]\n",
        "    genresSingleTop.append(t[0])\n",
        "    featuresSingleTop.append(j)\n",
        "genresSingleTop = np.asarray(genresSingleTop)\n",
        "featuresSingleTop = np.asarray(featuresSingleTop)"
      ],
      "execution_count": 0,
      "outputs": []
    },
    {
      "cell_type": "code",
      "metadata": {
        "id": "F6o8v1eYyI3w",
        "colab_type": "code",
        "colab": {}
      },
      "source": [
        "genresSingleTop2 = []\n",
        "featuresSingleTop2 = [] \n",
        "for (i,j) in zip(genres2,features2):\n",
        "  xyt = []\n",
        "  for k in i:\n",
        "    t = temp2[np.where(temp1 == k)]\n",
        "    if t[0] not in xyt:\n",
        "      xyt.append(t[0])\n",
        "\n",
        "      genresSingleTop2.append(t[0])\n",
        "      featuresSingleTop2.append(j)\n",
        "genresSingleTop2 = np.asarray(genresSingleTop2)\n",
        "featuresSingleTop2 = np.asarray(featuresSingleTop2)"
      ],
      "execution_count": 0,
      "outputs": []
    },
    {
      "cell_type": "code",
      "metadata": {
        "id": "AaipngK-0rGS",
        "colab_type": "code",
        "outputId": "4f7a0b54-fe82-49ce-91c4-1b5851f02de5",
        "colab": {
          "base_uri": "https://localhost:8080/",
          "height": 119
        }
      },
      "source": [
        "xy = genres2[-3]\n",
        "xyt = []\n",
        "print(xy)\n",
        "for j in xy:\n",
        "  xyz = np.where(temp1 == j)\n",
        "  print(xyz)\n",
        "  xyt.append(temp2[xyz[0][0]])\n",
        "print (type(xyt))\n",
        "print(max(set(xyt), key = xyt.count))"
      ],
      "execution_count": 0,
      "outputs": [
        {
          "output_type": "stream",
          "text": [
            "[12 32 66]\n",
            "(array([11]),)\n",
            "(array([27]),)\n",
            "(array([44]),)\n",
            "<class 'list'>\n",
            "12\n"
          ],
          "name": "stdout"
        }
      ]
    },
    {
      "cell_type": "code",
      "metadata": {
        "id": "quifmQlM5hiJ",
        "colab_type": "code",
        "colab": {}
      },
      "source": [
        "#fatbardh\n",
        "from operator import itemgetter\n",
        "\n",
        "countGenres = np.zeros(1236)\n",
        "for i in range(81553):\n",
        "  for j in genres2[i]:\n",
        "    countGenres[j] += 1\n",
        "\n",
        "graphData = []\n",
        "for i in range(1236):\n",
        "  if(countGenres[i] != 0.0):\n",
        "    graphData.append( [i , int(countGenres[i])])\n",
        "\n",
        "a = sorted(graphData, key=lambda x: x[1], reverse=True)\n",
        "print(len( graphData))\n",
        "for i in range(15):\n",
        "  print(a[i])"
      ],
      "execution_count": 0,
      "outputs": []
    },
    {
      "cell_type": "code",
      "metadata": {
        "id": "-Oxvtu3B2kLW",
        "colab_type": "code",
        "colab": {}
      },
      "source": [
        "print(genres2)"
      ],
      "execution_count": 0,
      "outputs": []
    },
    {
      "cell_type": "code",
      "metadata": {
        "id": "k8bZzndJ0c6q",
        "colab_type": "code",
        "colab": {}
      },
      "source": [
        "genresSingleTop = []\n",
        "featuresSingleTop = [] \n",
        "for (i,j) in zip(genres2,features2):\n",
        "    t = temp2[np.where(temp1 == i)]\n",
        "  for k in i:\n",
        "    genresSingleTop.append(t[0])\n",
        "    featuresSingleTop.append(j)\n",
        "genresSingleTop = np.asarray(genresSingleTop)\n",
        "featuresSingleTop = np.asarray(featuresSingleTop)"
      ],
      "execution_count": 0,
      "outputs": []
    },
    {
      "cell_type": "code",
      "metadata": {
        "id": "MJ5GJe_wuVQX",
        "colab_type": "code",
        "outputId": "95dbf3b5-f0d4-41ea-f5e6-384528d91e03",
        "colab": {
          "base_uri": "https://localhost:8080/",
          "height": 187
        }
      },
      "source": [
        "#Checking sizes: It should be 106574-1,106574-1,106574-518,163-2\n",
        "print(\"Geners.shape\")\n",
        "print( genres2.shape)\n",
        "print(\"Features List shape.\")\n",
        "print(features2.shape)\n",
        "print(\"GenreList Shape\")\n",
        "print( genrelist.shape)\n",
        "\n",
        "\n",
        "print(\"Feature Matrix Shape:\")\n",
        "print(featuresSingleTop.shape)\n",
        "print(\"Genres Vector Shape:\")\n",
        "print(genresSingleTop.shape)"
      ],
      "execution_count": 0,
      "outputs": [
        {
          "output_type": "stream",
          "text": [
            "Geners.shape\n",
            "(81553,)\n",
            "Features List shape.\n",
            "(81553, 518)\n",
            "GenreList Shape\n",
            "(163, 2)\n",
            "Feature Matrix Shape:\n",
            "(191292, 518)\n",
            "Genres Vector Shape:\n",
            "(191292,)\n"
          ],
          "name": "stdout"
        }
      ]
    },
    {
      "cell_type": "code",
      "metadata": {
        "id": "Afw2_KVfeYs9",
        "colab_type": "code",
        "outputId": "5af3c482-7a16-42fd-c67f-eaab1411a068",
        "colab": {
          "base_uri": "https://localhost:8080/",
          "height": 1000
        }
      },
      "source": [
        "from sklearn.model_selection import train_test_split\n",
        "from sklearn.preprocessing import LabelEncoder,StandardScaler\n",
        "import keras\n",
        "\n",
        "import warnings\n",
        "warnings.filterwarnings('ignore')\n",
        "\n",
        "\n",
        "from keras import models\n",
        "from keras import layers\n",
        "\n",
        "#from sklearn.decomposition import PCA\n",
        "\n",
        "featuresTrial = featuresSingleTop#[0:1000]\n",
        "genresTrial = genresSingleTop#[0:1000]\n",
        "\n",
        "encoder = LabelEncoder()\n",
        "y = encoder.fit_transform(genresTrial)\n",
        "\n",
        "scaler = StandardScaler()\n",
        "X = scaler.fit_transform(np.array(featuresTrial, dtype = float))\n",
        "\n",
        "X_train, X_test, y_train, y_test = train_test_split(X, y, test_size=0.2)\n",
        "\n",
        "#pca = PCA(.95)\n",
        "\n",
        "#pca.fit(X_train)\n",
        "\n",
        "#X_train = pca.transform(X_train)\n",
        "#X_test = pca.transform(X_test)\n",
        "\n",
        "model = models.Sequential()\n",
        "model.add(layers.Dense(512, activation='relu', input_shape=(X_train.shape[1],)))\n",
        "\n",
        "model.add(layers.Dense(256, activation='relu'))\n",
        "\n",
        "model.add(layers.Dense(128, activation='relu'))\n",
        "\n",
        "model.add(layers.Dense(64, activation='relu'))\n",
        "\n",
        "model.add(layers.Dense(32, activation='relu'))\n",
        "\n",
        "model.add(layers.Dense(16, activation='softmax'))\n",
        "\n",
        "model.compile(optimizer='nadam',\n",
        "              loss='sparse_categorical_crossentropy',\n",
        "              metrics=['accuracy'])\n",
        "\n",
        "\n",
        "history = model.fit(X_train,\n",
        "                    y_train,\n",
        "                    epochs=150,\n",
        "                    batch_size=1024)\n",
        "                    "
      ],
      "execution_count": 0,
      "outputs": [
        {
          "output_type": "stream",
          "text": [
            "Epoch 1/150\n",
            "153033/153033 [==============================] - 6s 37us/step - loss: 2.1302 - acc: 0.2531\n",
            "Epoch 2/150\n",
            "153033/153033 [==============================] - 2s 13us/step - loss: 2.0762 - acc: 0.2676\n",
            "Epoch 3/150\n",
            "153033/153033 [==============================] - 2s 13us/step - loss: 2.0505 - acc: 0.2819\n",
            "Epoch 4/150\n",
            "153033/153033 [==============================] - 2s 13us/step - loss: 2.0207 - acc: 0.2991\n",
            "Epoch 5/150\n",
            "153033/153033 [==============================] - 2s 13us/step - loss: 1.9807 - acc: 0.3193\n",
            "Epoch 6/150\n",
            "153033/153033 [==============================] - 2s 13us/step - loss: 1.9339 - acc: 0.3411\n",
            "Epoch 7/150\n",
            "153033/153033 [==============================] - 2s 13us/step - loss: 1.8808 - acc: 0.3630\n",
            "Epoch 8/150\n",
            "153033/153033 [==============================] - 2s 13us/step - loss: 1.8230 - acc: 0.3841\n",
            "Epoch 9/150\n",
            "153033/153033 [==============================] - 2s 13us/step - loss: 1.7662 - acc: 0.4045\n",
            "Epoch 10/150\n",
            "153033/153033 [==============================] - 2s 13us/step - loss: 1.7094 - acc: 0.4257\n",
            "Epoch 11/150\n",
            "153033/153033 [==============================] - 2s 13us/step - loss: 1.6535 - acc: 0.4426\n",
            "Epoch 12/150\n",
            "153033/153033 [==============================] - 2s 13us/step - loss: 1.6032 - acc: 0.4592\n",
            "Epoch 13/150\n",
            "153033/153033 [==============================] - 2s 13us/step - loss: 1.5502 - acc: 0.4757\n",
            "Epoch 14/150\n",
            "153033/153033 [==============================] - 2s 13us/step - loss: 1.5108 - acc: 0.4863\n",
            "Epoch 15/150\n",
            "153033/153033 [==============================] - 2s 13us/step - loss: 1.4678 - acc: 0.4982\n",
            "Epoch 16/150\n",
            "153033/153033 [==============================] - 2s 13us/step - loss: 1.4308 - acc: 0.5080\n",
            "Epoch 17/150\n",
            "153033/153033 [==============================] - 2s 13us/step - loss: 1.3936 - acc: 0.5196\n",
            "Epoch 18/150\n",
            "153033/153033 [==============================] - 2s 13us/step - loss: 1.3629 - acc: 0.5262\n",
            "Epoch 19/150\n",
            "153033/153033 [==============================] - 2s 13us/step - loss: 1.3353 - acc: 0.5328\n",
            "Epoch 20/150\n",
            "153033/153033 [==============================] - 2s 13us/step - loss: 1.3056 - acc: 0.5410\n",
            "Epoch 21/150\n",
            "153033/153033 [==============================] - 2s 13us/step - loss: 1.2812 - acc: 0.5464\n",
            "Epoch 22/150\n",
            "153033/153033 [==============================] - 2s 13us/step - loss: 1.2577 - acc: 0.5510\n",
            "Epoch 23/150\n",
            "153033/153033 [==============================] - 2s 13us/step - loss: 1.2380 - acc: 0.5584\n",
            "Epoch 24/150\n",
            "153033/153033 [==============================] - 2s 13us/step - loss: 1.2205 - acc: 0.5607\n",
            "Epoch 25/150\n",
            "153033/153033 [==============================] - 2s 13us/step - loss: 1.2012 - acc: 0.5656\n",
            "Epoch 26/150\n",
            "153033/153033 [==============================] - 2s 13us/step - loss: 1.1801 - acc: 0.5718\n",
            "Epoch 27/150\n",
            "153033/153033 [==============================] - 2s 13us/step - loss: 1.1638 - acc: 0.5736\n",
            "Epoch 28/150\n",
            "153033/153033 [==============================] - 2s 13us/step - loss: 1.1490 - acc: 0.5795\n",
            "Epoch 29/150\n",
            "153033/153033 [==============================] - 2s 13us/step - loss: 1.1365 - acc: 0.5805\n",
            "Epoch 30/150\n",
            "153033/153033 [==============================] - 2s 13us/step - loss: 1.1272 - acc: 0.5836\n",
            "Epoch 31/150\n",
            "153033/153033 [==============================] - 2s 13us/step - loss: 1.1093 - acc: 0.5874\n",
            "Epoch 32/150\n",
            "153033/153033 [==============================] - 2s 13us/step - loss: 1.0964 - acc: 0.5897\n",
            "Epoch 33/150\n",
            "153033/153033 [==============================] - 2s 13us/step - loss: 1.0859 - acc: 0.5924\n",
            "Epoch 34/150\n",
            "153033/153033 [==============================] - 2s 13us/step - loss: 1.0716 - acc: 0.5953\n",
            "Epoch 35/150\n",
            "153033/153033 [==============================] - 2s 13us/step - loss: 1.0624 - acc: 0.5964\n",
            "Epoch 36/150\n",
            "153033/153033 [==============================] - 2s 13us/step - loss: 1.0507 - acc: 0.5996\n",
            "Epoch 37/150\n",
            "153033/153033 [==============================] - 2s 13us/step - loss: 1.0429 - acc: 0.6012\n",
            "Epoch 38/150\n",
            "153033/153033 [==============================] - 2s 13us/step - loss: 1.0321 - acc: 0.6031\n",
            "Epoch 39/150\n",
            "153033/153033 [==============================] - 2s 13us/step - loss: 1.0253 - acc: 0.6056\n",
            "Epoch 40/150\n",
            "153033/153033 [==============================] - 2s 13us/step - loss: 1.0225 - acc: 0.6059\n",
            "Epoch 41/150\n",
            "153033/153033 [==============================] - 2s 13us/step - loss: 1.0113 - acc: 0.6080\n",
            "Epoch 42/150\n",
            "153033/153033 [==============================] - 2s 13us/step - loss: 1.0036 - acc: 0.6086\n",
            "Epoch 43/150\n",
            "153033/153033 [==============================] - 2s 13us/step - loss: 0.9977 - acc: 0.6119\n",
            "Epoch 44/150\n",
            "153033/153033 [==============================] - 2s 13us/step - loss: 0.9881 - acc: 0.6135\n",
            "Epoch 45/150\n",
            "153033/153033 [==============================] - 2s 13us/step - loss: 0.9806 - acc: 0.6143\n",
            "Epoch 46/150\n",
            "153033/153033 [==============================] - 2s 13us/step - loss: 0.9743 - acc: 0.6165\n",
            "Epoch 47/150\n",
            "153033/153033 [==============================] - 2s 13us/step - loss: 0.9686 - acc: 0.6176\n",
            "Epoch 48/150\n",
            "153033/153033 [==============================] - 2s 13us/step - loss: 0.9643 - acc: 0.6185\n",
            "Epoch 49/150\n",
            "153033/153033 [==============================] - 2s 13us/step - loss: 0.9561 - acc: 0.6191\n",
            "Epoch 50/150\n",
            "153033/153033 [==============================] - 2s 13us/step - loss: 0.9539 - acc: 0.6201\n",
            "Epoch 51/150\n",
            "153033/153033 [==============================] - 2s 13us/step - loss: 0.9467 - acc: 0.6216\n",
            "Epoch 52/150\n",
            "153033/153033 [==============================] - 2s 13us/step - loss: 0.9429 - acc: 0.6231\n",
            "Epoch 53/150\n",
            "153033/153033 [==============================] - 2s 13us/step - loss: 0.9370 - acc: 0.6224\n",
            "Epoch 54/150\n",
            "153033/153033 [==============================] - 2s 13us/step - loss: 0.9336 - acc: 0.6242\n",
            "Epoch 55/150\n",
            "153033/153033 [==============================] - 2s 13us/step - loss: 0.9269 - acc: 0.6266\n",
            "Epoch 56/150\n",
            "153033/153033 [==============================] - 2s 13us/step - loss: 0.9261 - acc: 0.6256\n",
            "Epoch 57/150\n",
            "153033/153033 [==============================] - 2s 13us/step - loss: 0.9202 - acc: 0.6266\n",
            "Epoch 58/150\n",
            "153033/153033 [==============================] - 2s 13us/step - loss: 0.9147 - acc: 0.6285\n",
            "Epoch 59/150\n",
            "153033/153033 [==============================] - 2s 13us/step - loss: 0.9113 - acc: 0.6291\n",
            "Epoch 60/150\n",
            "153033/153033 [==============================] - 2s 13us/step - loss: 0.9073 - acc: 0.6290\n",
            "Epoch 61/150\n",
            "153033/153033 [==============================] - 2s 13us/step - loss: 0.9053 - acc: 0.6317\n",
            "Epoch 62/150\n",
            "153033/153033 [==============================] - 2s 13us/step - loss: 0.9016 - acc: 0.6313\n",
            "Epoch 63/150\n",
            "153033/153033 [==============================] - 2s 13us/step - loss: 0.8977 - acc: 0.6315\n",
            "Epoch 64/150\n",
            "153033/153033 [==============================] - 2s 13us/step - loss: 0.8924 - acc: 0.6338\n",
            "Epoch 65/150\n",
            "153033/153033 [==============================] - 2s 13us/step - loss: 0.8906 - acc: 0.6331\n",
            "Epoch 66/150\n",
            "153033/153033 [==============================] - 2s 13us/step - loss: 0.8857 - acc: 0.6350\n",
            "Epoch 67/150\n",
            "153033/153033 [==============================] - 2s 13us/step - loss: 0.8819 - acc: 0.6358\n",
            "Epoch 68/150\n",
            "153033/153033 [==============================] - 2s 13us/step - loss: 0.8778 - acc: 0.6350\n",
            "Epoch 69/150\n",
            "153033/153033 [==============================] - 2s 13us/step - loss: 0.8765 - acc: 0.6356\n",
            "Epoch 70/150\n",
            "153033/153033 [==============================] - 2s 13us/step - loss: 0.8717 - acc: 0.6373\n",
            "Epoch 71/150\n",
            "153033/153033 [==============================] - 2s 13us/step - loss: 0.8713 - acc: 0.6368\n",
            "Epoch 72/150\n",
            "153033/153033 [==============================] - 2s 13us/step - loss: 0.8667 - acc: 0.6377\n",
            "Epoch 73/150\n",
            "153033/153033 [==============================] - 2s 13us/step - loss: 0.8641 - acc: 0.6382\n",
            "Epoch 74/150\n",
            "153033/153033 [==============================] - 2s 13us/step - loss: 0.8629 - acc: 0.6385\n",
            "Epoch 75/150\n",
            "153033/153033 [==============================] - 2s 13us/step - loss: 0.8600 - acc: 0.6385\n",
            "Epoch 76/150\n",
            "153033/153033 [==============================] - 2s 13us/step - loss: 0.8555 - acc: 0.6397\n",
            "Epoch 77/150\n",
            "153033/153033 [==============================] - 2s 13us/step - loss: 0.8553 - acc: 0.6399\n",
            "Epoch 78/150\n",
            "153033/153033 [==============================] - 2s 13us/step - loss: 0.8528 - acc: 0.6401\n",
            "Epoch 79/150\n",
            "153033/153033 [==============================] - 2s 13us/step - loss: 0.8489 - acc: 0.6418\n",
            "Epoch 80/150\n",
            "153033/153033 [==============================] - 2s 13us/step - loss: 0.8491 - acc: 0.6418\n",
            "Epoch 81/150\n",
            "153033/153033 [==============================] - 2s 13us/step - loss: 0.8490 - acc: 0.6408\n",
            "Epoch 82/150\n",
            "153033/153033 [==============================] - 2s 13us/step - loss: 0.8446 - acc: 0.6424\n",
            "Epoch 83/150\n",
            "153033/153033 [==============================] - 2s 13us/step - loss: 0.8432 - acc: 0.6411\n",
            "Epoch 84/150\n",
            "153033/153033 [==============================] - 2s 13us/step - loss: 0.8357 - acc: 0.6414\n",
            "Epoch 85/150\n",
            "153033/153033 [==============================] - 2s 13us/step - loss: 0.8368 - acc: 0.6443\n",
            "Epoch 86/150\n",
            "153033/153033 [==============================] - 2s 13us/step - loss: 0.8320 - acc: 0.6448\n",
            "Epoch 87/150\n",
            "153033/153033 [==============================] - 2s 13us/step - loss: 0.8302 - acc: 0.6458\n",
            "Epoch 88/150\n",
            "153033/153033 [==============================] - 2s 13us/step - loss: 0.8305 - acc: 0.6450\n",
            "Epoch 89/150\n",
            "153033/153033 [==============================] - 2s 13us/step - loss: 0.8312 - acc: 0.6449\n",
            "Epoch 90/150\n",
            "153033/153033 [==============================] - 2s 13us/step - loss: 0.8265 - acc: 0.6461\n",
            "Epoch 91/150\n",
            "153033/153033 [==============================] - 2s 13us/step - loss: 0.8242 - acc: 0.6462\n",
            "Epoch 92/150\n",
            "153033/153033 [==============================] - 2s 13us/step - loss: 0.8212 - acc: 0.6459\n",
            "Epoch 93/150\n",
            "153033/153033 [==============================] - 2s 13us/step - loss: 0.8187 - acc: 0.6476\n",
            "Epoch 94/150\n",
            "153033/153033 [==============================] - 2s 13us/step - loss: 0.8160 - acc: 0.6461\n",
            "Epoch 95/150\n",
            "153033/153033 [==============================] - 2s 13us/step - loss: 0.8164 - acc: 0.6471\n",
            "Epoch 96/150\n",
            "153033/153033 [==============================] - 2s 13us/step - loss: 0.8141 - acc: 0.6490\n",
            "Epoch 97/150\n",
            "153033/153033 [==============================] - 2s 13us/step - loss: 0.8140 - acc: 0.6479\n",
            "Epoch 98/150\n",
            "153033/153033 [==============================] - 2s 13us/step - loss: 0.8108 - acc: 0.6472\n",
            "Epoch 99/150\n",
            "153033/153033 [==============================] - 2s 13us/step - loss: 0.8102 - acc: 0.6489\n",
            "Epoch 100/150\n",
            "153033/153033 [==============================] - 2s 14us/step - loss: 0.8067 - acc: 0.6482\n",
            "Epoch 101/150\n",
            "153033/153033 [==============================] - 2s 13us/step - loss: 0.8060 - acc: 0.6499\n",
            "Epoch 102/150\n",
            "153033/153033 [==============================] - 2s 13us/step - loss: 0.8065 - acc: 0.6495\n",
            "Epoch 103/150\n",
            "153033/153033 [==============================] - 2s 13us/step - loss: 0.8017 - acc: 0.6502\n",
            "Epoch 104/150\n",
            "153033/153033 [==============================] - 2s 13us/step - loss: 0.8009 - acc: 0.6487\n",
            "Epoch 105/150\n",
            "153033/153033 [==============================] - 2s 13us/step - loss: 0.7986 - acc: 0.6510\n",
            "Epoch 106/150\n",
            "153033/153033 [==============================] - 2s 13us/step - loss: 0.7971 - acc: 0.6505\n",
            "Epoch 107/150\n",
            "153033/153033 [==============================] - 2s 13us/step - loss: 0.7962 - acc: 0.6512\n",
            "Epoch 108/150\n",
            "153033/153033 [==============================] - 2s 13us/step - loss: 0.7956 - acc: 0.6505\n",
            "Epoch 109/150\n",
            "153033/153033 [==============================] - 2s 13us/step - loss: 0.7962 - acc: 0.6526\n",
            "Epoch 110/150\n",
            "153033/153033 [==============================] - 2s 13us/step - loss: 0.7931 - acc: 0.6529\n",
            "Epoch 111/150\n",
            "153033/153033 [==============================] - 2s 13us/step - loss: 0.7890 - acc: 0.6533\n",
            "Epoch 112/150\n",
            "153033/153033 [==============================] - 2s 13us/step - loss: 0.7889 - acc: 0.6528\n",
            "Epoch 113/150\n",
            "153033/153033 [==============================] - 2s 13us/step - loss: 0.7869 - acc: 0.6522\n",
            "Epoch 114/150\n",
            "153033/153033 [==============================] - 2s 13us/step - loss: 0.7844 - acc: 0.6533\n",
            "Epoch 115/150\n",
            "153033/153033 [==============================] - 2s 13us/step - loss: 0.7845 - acc: 0.6537\n",
            "Epoch 116/150\n",
            "153033/153033 [==============================] - 2s 13us/step - loss: 0.7811 - acc: 0.6546\n",
            "Epoch 117/150\n",
            "153033/153033 [==============================] - 2s 13us/step - loss: 0.7826 - acc: 0.6519\n",
            "Epoch 118/150\n",
            "153033/153033 [==============================] - 2s 13us/step - loss: 0.7776 - acc: 0.6547\n",
            "Epoch 119/150\n",
            "153033/153033 [==============================] - 2s 13us/step - loss: 0.7789 - acc: 0.6548\n",
            "Epoch 120/150\n",
            "153033/153033 [==============================] - 2s 13us/step - loss: 0.7762 - acc: 0.6555\n",
            "Epoch 121/150\n",
            "153033/153033 [==============================] - 2s 13us/step - loss: 0.7759 - acc: 0.6542\n",
            "Epoch 122/150\n",
            "153033/153033 [==============================] - 2s 13us/step - loss: 0.7751 - acc: 0.6545\n",
            "Epoch 123/150\n",
            "153033/153033 [==============================] - 2s 13us/step - loss: 0.7753 - acc: 0.6548\n",
            "Epoch 124/150\n",
            "153033/153033 [==============================] - 2s 13us/step - loss: 0.7731 - acc: 0.6560\n",
            "Epoch 125/150\n",
            "153033/153033 [==============================] - 2s 13us/step - loss: 0.7720 - acc: 0.6556\n",
            "Epoch 126/150\n",
            "153033/153033 [==============================] - 2s 13us/step - loss: 0.7701 - acc: 0.6550\n",
            "Epoch 127/150\n",
            "153033/153033 [==============================] - 2s 13us/step - loss: 0.7696 - acc: 0.6555\n",
            "Epoch 128/150\n",
            "153033/153033 [==============================] - 2s 13us/step - loss: 0.7675 - acc: 0.6563\n",
            "Epoch 129/150\n",
            "153033/153033 [==============================] - 2s 13us/step - loss: 0.7660 - acc: 0.6560\n",
            "Epoch 130/150\n",
            "153033/153033 [==============================] - 2s 13us/step - loss: 0.7643 - acc: 0.6570\n",
            "Epoch 131/150\n",
            "153033/153033 [==============================] - 2s 13us/step - loss: 0.7654 - acc: 0.6569\n",
            "Epoch 132/150\n",
            "153033/153033 [==============================] - 2s 13us/step - loss: 0.7623 - acc: 0.6561\n",
            "Epoch 133/150\n",
            "153033/153033 [==============================] - 2s 13us/step - loss: 0.7611 - acc: 0.6568\n",
            "Epoch 134/150\n",
            "153033/153033 [==============================] - 2s 13us/step - loss: 0.7593 - acc: 0.6579\n",
            "Epoch 135/150\n",
            "153033/153033 [==============================] - 2s 13us/step - loss: 0.7574 - acc: 0.6577\n",
            "Epoch 136/150\n",
            "153033/153033 [==============================] - 2s 13us/step - loss: 0.7611 - acc: 0.6566\n",
            "Epoch 137/150\n",
            "153033/153033 [==============================] - 2s 13us/step - loss: 0.7595 - acc: 0.6581\n",
            "Epoch 138/150\n",
            "153033/153033 [==============================] - 2s 13us/step - loss: 0.7582 - acc: 0.6582\n",
            "Epoch 139/150\n",
            "153033/153033 [==============================] - 2s 13us/step - loss: 0.7524 - acc: 0.6588\n",
            "Epoch 140/150\n",
            "153033/153033 [==============================] - 2s 13us/step - loss: 0.7536 - acc: 0.6590\n",
            "Epoch 141/150\n",
            "153033/153033 [==============================] - 2s 13us/step - loss: 0.7528 - acc: 0.6576\n",
            "Epoch 142/150\n",
            "153033/153033 [==============================] - 2s 13us/step - loss: 0.7540 - acc: 0.6599\n",
            "Epoch 143/150\n",
            "153033/153033 [==============================] - 2s 13us/step - loss: 0.7525 - acc: 0.6577\n",
            "Epoch 144/150\n",
            "153033/153033 [==============================] - 2s 13us/step - loss: 0.7505 - acc: 0.6600\n",
            "Epoch 145/150\n",
            "153033/153033 [==============================] - 2s 13us/step - loss: 0.7518 - acc: 0.6590\n",
            "Epoch 146/150\n",
            "153033/153033 [==============================] - 2s 13us/step - loss: 0.7494 - acc: 0.6590\n",
            "Epoch 147/150\n",
            "153033/153033 [==============================] - 2s 13us/step - loss: 0.7468 - acc: 0.6602\n",
            "Epoch 148/150\n",
            "153033/153033 [==============================] - 2s 13us/step - loss: 0.7462 - acc: 0.6593\n",
            "Epoch 149/150\n",
            "153033/153033 [==============================] - 2s 13us/step - loss: 0.7450 - acc: 0.6599\n",
            "Epoch 150/150\n",
            "153033/153033 [==============================] - 2s 13us/step - loss: 0.7441 - acc: 0.6589\n"
          ],
          "name": "stdout"
        }
      ]
    },
    {
      "cell_type": "code",
      "metadata": {
        "id": "q3TgskhRgYlT",
        "colab_type": "code",
        "outputId": "37ed0d3a-c5f4-413b-8740-a3a1e6682e6c",
        "colab": {
          "base_uri": "https://localhost:8080/",
          "height": 51
        }
      },
      "source": [
        "test_loss, test_acc = model.evaluate(X_test,y_test)\n",
        "print('test_acc: ',test_acc)"
      ],
      "execution_count": 0,
      "outputs": [
        {
          "output_type": "stream",
          "text": [
            "38259/38259 [==============================] - 5s 121us/step\n",
            "test_acc:  0.37227841814374607\n"
          ],
          "name": "stdout"
        }
      ]
    },
    {
      "cell_type": "code",
      "metadata": {
        "id": "49ue_SC6-3lp",
        "colab_type": "code",
        "outputId": "3da4c30b-4306-4ab7-bc4a-c79868c5c0da",
        "colab": {
          "base_uri": "https://localhost:8080/",
          "height": 590
        }
      },
      "source": [
        "import matplotlib.pyplot as plt\n",
        "plt.plot(history.history['acc'])\n",
        "plt.xlabel('epoch #')\n",
        "plt.ylabel('Training Accuracy')\n",
        "plt.title('Training Accuracy vs epoch #')\n",
        "plt.figure()\n",
        "plt.plot(history.history['loss'])\n",
        "plt.xlabel('epoch #')\n",
        "plt.ylabel('Sparse Categorical Cross-Entropy')\n",
        "plt.title('Training Loss vs epoch #')"
      ],
      "execution_count": 0,
      "outputs": [
        {
          "output_type": "execute_result",
          "data": {
            "text/plain": [
              "Text(0.5, 1.0, 'Training Loss vs epoch #')"
            ]
          },
          "metadata": {
            "tags": []
          },
          "execution_count": 209
        },
        {
          "output_type": "display_data",
          "data": {
            "image/png": "[encoded data removed]",
            "text/plain": [
              "<Figure size 432x288 with 1 Axes>"
            ]
          },
          "metadata": {
            "tags": []
          }
        },
        {
          "output_type": "display_data",
          "data": {
            "image/png": "[encoded data removed]",
            "text/plain": [
              "<Figure size 432x288 with 1 Axes>"
            ]
          },
          "metadata": {
            "tags": []
          }
        }
      ]
    },
    {
      "cell_type": "code",
      "metadata": {
        "id": "EBytvuIrhjBp",
        "colab_type": "code",
        "colab": {}
      },
      "source": [
        "def getgenres(temp):\n",
        "    temp = temp.replace(\"[\",\"\")\n",
        "    temp = temp.replace(\",\",\"\")\n",
        "    temp = temp.replace(\"]\",\"\")\n",
        "    lis = list(map(int,temp.split(\" \")))\n",
        "    arr = np.asarray(lis)\n",
        "    return arr"
      ],
      "execution_count": 0,
      "outputs": []
    }
  ]
}